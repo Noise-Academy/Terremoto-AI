{
  "nbformat": 4,
  "nbformat_minor": 0,
  "metadata": {
    "colab": {
      "name": "Terre1.0.ipynb",
      "provenance": [],
      "collapsed_sections": [],
      "authorship_tag": "ABX9TyMaVfhLmvmBMGkrDSbRXhA2",
      "include_colab_link": true
    },
    "kernelspec": {
      "name": "python3",
      "display_name": "Python 3"
    },
    "accelerator": "TPU"
  },
  "cells": [
    {
      "cell_type": "markdown",
      "metadata": {
        "id": "view-in-github",
        "colab_type": "text"
      },
      "source": [
        "<a href=\"https://colab.research.google.com/github/Noise-Academy/Terremoto-AI/blob/master/Terre1_0.ipynb\" target=\"_parent\"><img src=\"https://colab.research.google.com/assets/colab-badge.svg\" alt=\"Open In Colab\"/></a>"
      ]
    },
    {
      "cell_type": "code",
      "metadata": {
        "id": "Fts3cPEh6OcH",
        "colab_type": "code",
        "outputId": "c47079be-e821-40f9-e3c3-88372df4786f",
        "colab": {
          "base_uri": "https://localhost:8080/",
          "height": 34
        }
      },
      "source": [
        "from google.colab import drive\n",
        "drive.mount('/content/drive')\n",
        "import tensorflow as tf\n",
        "import numpy as np\n",
        "import pandas as pd\n",
        "import matplotlib.pyplot as plt\n",
        "\n",
        "\n"
      ],
      "execution_count": 0,
      "outputs": [
        {
          "output_type": "stream",
          "text": [
            "Drive already mounted at /content/drive; to attempt to forcibly remount, call drive.mount(\"/content/drive\", force_remount=True).\n"
          ],
          "name": "stdout"
        }
      ]
    },
    {
      "cell_type": "code",
      "metadata": {
        "id": "vUIOiiCW9pSH",
        "colab_type": "code",
        "outputId": "5f23e1ee-7e8a-41eb-b3d6-1b4f4544530a",
        "colab": {
          "base_uri": "https://localhost:8080/",
          "height": 255
        }
      },
      "source": [
        "\n",
        "data_sismica = pd.read_csv(\"drive/My Drive/all_week.csv\")\n",
        "print(data_sismica)\n"
      ],
      "execution_count": 0,
      "outputs": [
        {
          "output_type": "stream",
          "text": [
            "                          time   latitude  ...  locationSource  magSource\n",
            "0     2020-01-12T19:34:01.710Z  34.801833  ...              ci         ci\n",
            "1     2020-01-12T19:30:35.000Z  35.835500  ...              ci         ci\n",
            "2     2020-01-12T19:21:54.500Z  36.831001  ...              nc         nc\n",
            "3     2020-01-12T19:06:59.934Z  52.705600  ...              us         us\n",
            "4     2020-01-12T18:58:54.020Z  35.788500  ...              ci         ci\n",
            "...                        ...        ...  ...             ...        ...\n",
            "2454  2020-01-05T19:55:45.508Z  62.736800  ...              ak         ak\n",
            "2455  2020-01-05T19:51:37.090Z  35.899333  ...              ci         ci\n",
            "2456  2020-01-05T19:46:49.610Z  33.665500  ...              ci         ci\n",
            "2457  2020-01-05T19:44:27.119Z  54.691900  ...              ak         ak\n",
            "2458  2020-01-05T19:41:40.693Z  67.460600  ...              ak         ak\n",
            "\n",
            "[2459 rows x 22 columns]\n"
          ],
          "name": "stdout"
        }
      ]
    },
    {
      "cell_type": "code",
      "metadata": {
        "id": "_-fOlAr5AwXZ",
        "colab_type": "code",
        "outputId": "a63a36da-2db8-4c27-8065-5ea319c995de",
        "colab": {
          "base_uri": "https://localhost:8080/",
          "height": 1000
        }
      },
      "source": [
        "x = data_sismica.latitude\n",
        "y = data_sismica.longitude\n",
        "plt.scatter(x, y)\n",
        "plt.show()\n",
        "\n",
        "print(data_sismica.info())\n",
        "print(data_sismica.iloc[[21,37,40,60,92,110,131,153,173,190,201,203,219,240,250,272,274,275,276,277,279,280,296,298,302,304,309,313,315,325,336]])\n",
        "print(data_sismica.iloc[:,20])"
      ],
      "execution_count": 0,
      "outputs": [
        {
          "output_type": "display_data",
          "data": {
            "image/png": "[encoded data removed]",
            "text/plain": [
              "<Figure size 432x288 with 1 Axes>"
            ]
          },
          "metadata": {
            "tags": []
          }
        },
        {
          "output_type": "stream",
          "text": [
            "<class 'pandas.core.frame.DataFrame'>\n",
            "RangeIndex: 2459 entries, 0 to 2458\n",
            "Data columns (total 22 columns):\n",
            "time               2459 non-null object\n",
            "latitude           2459 non-null float64\n",
            "longitude          2459 non-null float64\n",
            "depth              2459 non-null float64\n",
            "mag                2459 non-null float64\n",
            "magType            2459 non-null object\n",
            "nst                1915 non-null float64\n",
            "gap                2107 non-null float64\n",
            "dmin               2081 non-null float64\n",
            "rms                2459 non-null float64\n",
            "net                2459 non-null object\n",
            "id                 2459 non-null object\n",
            "updated            2459 non-null object\n",
            "place              2459 non-null object\n",
            "type               2459 non-null object\n",
            "horizontalError    1951 non-null float64\n",
            "depthError         2458 non-null float64\n",
            "magError           2033 non-null float64\n",
            "magNst             2099 non-null float64\n",
            "status             2459 non-null object\n",
            "locationSource     2459 non-null object\n",
            "magSource          2459 non-null object\n",
            "dtypes: float64(12), object(10)\n",
            "memory usage: 422.8+ KB\n",
            "None\n",
            "                         time   latitude  ...  locationSource  magSource\n",
            "21   2020-01-12T17:23:25.200Z  17.866000  ...              pr         pr\n",
            "37   2020-01-12T16:22:25.805Z  52.095100  ...              us         us\n",
            "40   2020-01-12T16:03:06.260Z  19.416166  ...              hv         hv\n",
            "60   2020-01-12T13:53:54.629Z  62.712000  ...              ak         ak\n",
            "92   2020-01-12T10:49:53.030Z  35.700167  ...              ci         ci\n",
            "110  2020-01-12T09:28:12.088Z  63.811500  ...              ak         ak\n",
            "131  2020-01-12T07:51:07.000Z  35.939500  ...              ci         ci\n",
            "153  2020-01-12T05:29:24.989Z  34.961975  ...              ok         ok\n",
            "173  2020-01-12T02:26:50.570Z  33.364833  ...              ci         ci\n",
            "190  2020-01-12T00:58:29.460Z  36.095000  ...              nm         nm\n",
            "201  2020-01-11T23:49:40.620Z  17.942300  ...              pr         pr\n",
            "203  2020-01-11T23:45:21.530Z  38.856167  ...              nc         nc\n",
            "219  2020-01-11T21:20:35.070Z  36.031667  ...              ci         ci\n",
            "240  2020-01-11T19:22:26.410Z  36.749500  ...              nc         nc\n",
            "250  2020-01-11T18:20:03.679Z  36.302052  ...              ok         ok\n",
            "272  2020-01-11T15:41:17.780Z  17.970000  ...              pr         pr\n",
            "274  2020-01-11T14:56:55.350Z  17.910300  ...              pr         pr\n",
            "275  2020-01-11T14:53:57.210Z  17.972000  ...              pr         pr\n",
            "276  2020-01-11T14:53:44.240Z  47.302333  ...              uw         uw\n",
            "277  2020-01-11T14:45:30.670Z  17.981500  ...              pr         pr\n",
            "279  2020-01-11T14:41:07.894Z  36.509033  ...              ok         ok\n",
            "280  2020-01-11T14:37:19.270Z  35.584000  ...              ci         ci\n",
            "296  2020-01-11T13:43:45.520Z  17.945500  ...              pr         pr\n",
            "298  2020-01-11T13:35:34.570Z  35.860333  ...              ci         ci\n",
            "302  2020-01-11T13:11:42.190Z  17.969100  ...              pr         pr\n",
            "304  2020-01-11T12:58:37.392Z  64.628300  ...              ak         ak\n",
            "309  2020-01-11T12:48:11.545Z  63.175300  ...              ak         ak\n",
            "313  2020-01-11T12:08:16.180Z  17.943500  ...              pr         pr\n",
            "315  2020-01-11T11:51:47.681Z  58.276300  ...              ak         ak\n",
            "325  2020-01-11T11:06:49.831Z -17.635800  ...              us         us\n",
            "336  2020-01-11T09:26:03.420Z  33.492000  ...              ci         ci\n",
            "\n",
            "[31 rows x 22 columns]\n",
            "0       ci\n",
            "1       ci\n",
            "2       nc\n",
            "3       us\n",
            "4       ci\n",
            "        ..\n",
            "2454    ak\n",
            "2455    ci\n",
            "2456    ci\n",
            "2457    ak\n",
            "2458    ak\n",
            "Name: locationSource, Length: 2459, dtype: object\n"
          ],
          "name": "stdout"
        }
      ]
    }
  ]
}